{
  "nbformat": 4,
  "nbformat_minor": 0,
  "metadata": {
    "kernelspec": {
      "display_name": "Python 2",
      "language": "python",
      "name": "python2"
    },
    "language_info": {
      "codemirror_mode": {
        "name": "ipython",
        "version": 2
      },
      "file_extension": ".py",
      "mimetype": "text/x-python",
      "name": "python",
      "nbconvert_exporter": "python",
      "pygments_lexer": "ipython2",
      "version": "2.7.16"
    },
    "colab": {
      "name": "Leer tabla HBase con PySpark.ipynb",
      "provenance": [],
      "collapsed_sections": []
    }
  },
  "cells": [
    {
      "cell_type": "markdown",
      "metadata": {
        "id": "M_kM-UaNX3tb"
      },
      "source": [
        "# Configurar Spark para Python Jupyter"
      ]
    },
    {
      "cell_type": "code",
      "metadata": {
        "id": "KP6GWicUX3te"
      },
      "source": [
        "# Configuracion de la ubicacion de instalacion de Spark en Jupyter\n",
        "import os\n",
        "import sys\n",
        "os.environ[\"SPARK_HOME\"] = \"/opt/cloudera/parcels/CDH-6.2.0-1.cdh6.2.0.p0.967373/lib/spark\"\n",
        "os.environ[\"PYLIB\"] = os.environ[\"SPARK_HOME\"] + \"/python/lib\"\n",
        "# Si se quiere usar Python 2 usar /usr/bin/python2.7\n",
        "os.environ[\"PYSPARK_PYTHON\"] = \"/home/hadoop/anaconda2/bin/python\" \n",
        "os.environ[\"PYSPARK_DRIVER_PYTHON\"] = \"/home/hadoop/anaconda2/bin/python\"\n",
        "sys.path.insert(0, os.environ[\"PYLIB\"] +\"/py4j-0.10.7-src.zip\")\n",
        "sys.path.insert(0, os.environ[\"PYLIB\"] +\"/pyspark.zip\")"
      ],
      "execution_count": null,
      "outputs": []
    },
    {
      "cell_type": "code",
      "metadata": {
        "id": "AwkmaFUSX3ti"
      },
      "source": [
        "# Para descubrir la ubicacion de Spark\n",
        "import findspark\n",
        "findspark.init()"
      ],
      "execution_count": null,
      "outputs": []
    },
    {
      "cell_type": "markdown",
      "metadata": {
        "id": "i2lTOwOXX3tm"
      },
      "source": [
        "<a href='https://spark.apache.org/docs/latest/api/python/pyspark.sql.html?highlight=explode#pyspark.sql.SparkSession.Builder.enableHiveSupport'>PySpark API Docs</a>"
      ]
    },
    {
      "cell_type": "markdown",
      "metadata": {
        "id": "W5IeSZjiX3tn"
      },
      "source": [
        "# Crear objeto SparkSession para conectar el cluster Spark"
      ]
    },
    {
      "cell_type": "code",
      "metadata": {
        "id": "QSh3K_t2X3to"
      },
      "source": [
        "from pyspark.sql import SparkSession\n",
        "spark = SparkSession \\\n",
        "    .builder \\\n",
        "    .appName(\"Read HBase Table using PySpark Demo\") \\\n",
        "    .config(\"spark.jars\", \"/opt/cloudera/parcels/CDH-6.2.0-1.cdh6.2.0.p0.967373/lib/hive/lib/hive-hbase-handler-2.1.1-cdh6.2.0.jar\") \\\n",
        "    .config(\"spark.executor.extraClassPath\", \"/opt/cloudera/parcels/CDH-6.2.0-1.cdh6.2.0.p0.967373/lib/hive/lib/hive-hbase-handler-2.1.1-cdh6.2.0.jar\") \\\n",
        "    .config(\"spark.executor.extraLibrary\", \"/opt/cloudera/parcels/CDH-6.2.0-1.cdh6.2.0.p0.967373/lib/hive/lib/hive-hbase-handler-2.1.1-cdh6.2.0.jar\") \\\n",
        "    .config(\"spark.driver.extraClassPath\", \"/opt/cloudera/parcels/CDH-6.2.0-1.cdh6.2.0.p0.967373/lib/hive/lib/hive-hbase-handler-2.1.1-cdh6.2.0.jar\") \\\n",
        "    .enableHiveSupport()\\\n",
        "    .getOrCreate()"
      ],
      "execution_count": null,
      "outputs": []
    },
    {
      "cell_type": "code",
      "metadata": {
        "id": "h8kfM9LpX3tr",
        "outputId": "3856ccdc-f4f0-4e64-b8b1-cb192d5a74fa"
      },
      "source": [
        "print(spark.sparkContext.appName)"
      ],
      "execution_count": null,
      "outputs": [
        {
          "output_type": "stream",
          "text": [
            "Read HBase Table using PySpark Demo\n"
          ],
          "name": "stdout"
        }
      ]
    },
    {
      "cell_type": "markdown",
      "metadata": {
        "id": "l9L9Vy3kX3tv"
      },
      "source": [
        "# Leer tabla HBase usando objeto SparkSession."
      ]
    },
    {
      "cell_type": "code",
      "metadata": {
        "id": "HlI6pfaxX3tw"
      },
      "source": [
        "transaction_detail_df = spark.sql(\"use default\")\n",
        "transaction_detail_df = spark.sql(\"select * from transaction_detail_hive_tbl\")\n",
        "#transaction_detail_df = spark.sql(\"select * from default.transaction_detail_hive_tbl\")"
      ],
      "execution_count": null,
      "outputs": []
    },
    {
      "cell_type": "code",
      "metadata": {
        "id": "wT8TeyPUX3tz",
        "outputId": "89e23f60-41d6-4a1b-b81f-ab54ad1f2137"
      },
      "source": [
        "transaction_detail_df.printSchema()"
      ],
      "execution_count": null,
      "outputs": [
        {
          "output_type": "stream",
          "text": [
            "root\n",
            " |-- transaction_id: integer (nullable = true)\n",
            " |-- transaction_card_type: string (nullable = true)\n",
            " |-- transaction_ecommerce_website_name: string (nullable = true)\n",
            " |-- transaction_product_name: string (nullable = true)\n",
            " |-- transaction_datetime: string (nullable = true)\n",
            " |-- transaction_amount: double (nullable = true)\n",
            " |-- transaction_city_name: string (nullable = true)\n",
            " |-- transaction_country_name: string (nullable = true)\n",
            "\n"
          ],
          "name": "stdout"
        }
      ]
    },
    {
      "cell_type": "code",
      "metadata": {
        "id": "DFXL6vh1X3t4",
        "outputId": "b0fa6bfa-8f44-429f-ee0d-967d3219f3a8"
      },
      "source": [
        "transaction_detail_df.show(2, False)"
      ],
      "execution_count": null,
      "outputs": [
        {
          "output_type": "stream",
          "text": [
            "+--------------+---------------------+----------------------------------+------------------------+--------------------+------------------+---------------------+------------------------+\n",
            "|transaction_id|transaction_card_type|transaction_ecommerce_website_name|transaction_product_name|transaction_datetime|transaction_amount|transaction_city_name|transaction_country_name|\n",
            "+--------------+---------------------+----------------------------------+------------------------+--------------------+------------------+---------------------+------------------------+\n",
            "|1             |MasterCard           |www.ebay.com                      |Laptop                  |2019-05-14 15:24:12 |50.85             |Mumbai               |India                   |\n",
            "|2             |MasterCard           |www.amazon.com                    |Wrist Band              |2019-05-14 15:24:13 |259.12            |Pune                 |India                   |\n",
            "+--------------+---------------------+----------------------------------+------------------------+--------------------+------------------+---------------------+------------------------+\n",
            "only showing top 2 rows\n",
            "\n"
          ],
          "name": "stdout"
        }
      ]
    },
    {
      "cell_type": "code",
      "metadata": {
        "id": "9wn3JtSyX3t8",
        "outputId": "81ec5be8-1807-479a-8864-dc933ec25139"
      },
      "source": [
        "transaction_detail_df.count()"
      ],
      "execution_count": null,
      "outputs": [
        {
          "output_type": "execute_result",
          "data": {
            "text/plain": [
              "5"
            ]
          },
          "metadata": {
            "tags": []
          },
          "execution_count": 8
        }
      ]
    },
    {
      "cell_type": "code",
      "metadata": {
        "id": "7PmKf2WpX3t_"
      },
      "source": [
        "transaction_detail_df_stg1 = transaction_detail_df.select(\"transaction_card_type\", \"transaction_country_name\", \"transaction_amount\")"
      ],
      "execution_count": null,
      "outputs": []
    },
    {
      "cell_type": "code",
      "metadata": {
        "id": "MTqp4JpTX3uC",
        "outputId": "718d8ab3-9511-4f79-d908-e29cb172f47e"
      },
      "source": [
        "transaction_detail_df_stg1.show(5, False)"
      ],
      "execution_count": null,
      "outputs": [
        {
          "output_type": "stream",
          "text": [
            "+---------------------+------------------------+------------------+\n",
            "|transaction_card_type|transaction_country_name|transaction_amount|\n",
            "+---------------------+------------------------+------------------+\n",
            "|MasterCard           |India                   |50.85             |\n",
            "|MasterCard           |India                   |259.12            |\n",
            "|MasterCard           |United States           |328.16            |\n",
            "|Visa                 |India                   |399.06            |\n",
            "|Visa                 |Italy                   |194.52            |\n",
            "+---------------------+------------------------+------------------+\n",
            "\n"
          ],
          "name": "stdout"
        }
      ]
    },
    {
      "cell_type": "code",
      "metadata": {
        "id": "gBcmBpLYX3uF",
        "outputId": "c817abcf-8bfa-45ec-bd61-41629d4b0bae"
      },
      "source": [
        "transaction_detail_df_stg1.groupby('transaction_card_type').agg({'transaction_amount': 'sum'}).show()"
      ],
      "execution_count": null,
      "outputs": [
        {
          "output_type": "stream",
          "text": [
            "+---------------------+-----------------------+\n",
            "|transaction_card_type|sum(transaction_amount)|\n",
            "+---------------------+-----------------------+\n",
            "|                 Visa|                 593.58|\n",
            "|           MasterCard|      638.1300000000001|\n",
            "+---------------------+-----------------------+\n",
            "\n"
          ],
          "name": "stdout"
        }
      ]
    },
    {
      "cell_type": "code",
      "metadata": {
        "id": "8EOgEEsIX3uK"
      },
      "source": [
        "spark.stop()"
      ],
      "execution_count": null,
      "outputs": []
    },
    {
      "cell_type": "code",
      "metadata": {
        "id": "ywusJPlJX3uO"
      },
      "source": [
        ""
      ],
      "execution_count": null,
      "outputs": []
    }
  ]
}