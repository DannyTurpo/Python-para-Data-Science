{
  "nbformat": 4,
  "nbformat_minor": 0,
  "metadata": {
    "kernelspec": {
      "display_name": "Python 2",
      "language": "python",
      "name": "python2"
    },
    "language_info": {
      "codemirror_mode": {
        "name": "ipython",
        "version": 2
      },
      "file_extension": ".py",
      "mimetype": "text/x-python",
      "name": "python",
      "nbconvert_exporter": "python",
      "pygments_lexer": "ipython2",
      "version": "2.7.16"
    },
    "colab": {
      "name": "Data_source_API_usando_PySpark.ipynb",
      "provenance": [],
      "collapsed_sections": []
    }
  },
  "cells": [
    {
      "cell_type": "markdown",
      "metadata": {
        "id": "v3RaQ0teGrhG"
      },
      "source": [
        "# Configurar Spark para Python Jupyter\n",
        "\n"
      ]
    },
    {
      "cell_type": "code",
      "metadata": {
        "id": "amCJPPZGGrhI"
      },
      "source": [
        "import os\n",
        "import sys\n",
        "os.environ[\"SPARK_HOME\"] = \"/opt/cloudera/parcels/CDH-6.2.0-1.cdh6.2.0.p0.967373/lib/spark\"\n",
        "os.environ[\"PYLIB\"] = os.environ[\"SPARK_HOME\"] + \"/python/lib\"\n",
        "os.environ[\"PYSPARK_PYTHON\"] = \"/home/hadoop/anaconda2/bin/python\" \n",
        "os.environ[\"PYSPARK_DRIVER_PYTHON\"] = \"/home/hadoop/anaconda2/bin/python\"\n",
        "sys.path.insert(0, os.environ[\"PYLIB\"] +\"/py4j-0.10.7-src.zip\")\n",
        "sys.path.insert(0, os.environ[\"PYLIB\"] +\"/pyspark.zip\")"
      ],
      "execution_count": null,
      "outputs": []
    },
    {
      "cell_type": "code",
      "metadata": {
        "id": "mdU1S699GrhT"
      },
      "source": [
        "import findspark\n",
        "findspark.init()"
      ],
      "execution_count": null,
      "outputs": []
    },
    {
      "cell_type": "markdown",
      "metadata": {
        "id": "_AidNdpVGrha"
      },
      "source": [
        "# Crear objeto SparkSession para conectar al cluster Spark"
      ]
    },
    {
      "cell_type": "code",
      "metadata": {
        "id": "5awdzWu5Grhb"
      },
      "source": [
        "from pyspark.sql import SparkSession\n",
        "spark = SparkSession \\\n",
        "    .builder \\\n",
        "    .appName(\"Data Source API using PySpark Demo\") \\\n",
        "    .getOrCreate()"
      ],
      "execution_count": null,
      "outputs": []
    },
    {
      "cell_type": "code",
      "metadata": {
        "id": "nRcKTcTVGrhe",
        "outputId": "3924cdf7-f331-4473-dc70-426608fe7152"
      },
      "source": [
        "print(spark.sparkContext.appName)"
      ],
      "execution_count": null,
      "outputs": [
        {
          "output_type": "stream",
          "text": [
            "Data Source API using PySpark Demo\n"
          ],
          "name": "stdout"
        }
      ]
    },
    {
      "cell_type": "markdown",
      "metadata": {
        "id": "3WE5JLX7Grhk"
      },
      "source": [
        "# API de fuente de datos formato de archivo CSV con PySpark"
      ]
    },
    {
      "cell_type": "markdown",
      "metadata": {
        "id": "mxXNo89PGrhl"
      },
      "source": [
        "<a href='https://spark.apache.org/docs/latest/api/python/pyspark.sql.html#pyspark.sql.DataFrameReader'>PySpark API Docs</a>\n",
        "<br/>\n",
        "<a href='https://spark.apache.org/docs/2.4.3/sql-data-sources.html#data-sources'>Spark Data Source Guide</a> "
      ]
    },
    {
      "cell_type": "code",
      "metadata": {
        "id": "AXtfE-cxGrhm"
      },
      "source": [
        "# transaction_detail.csv el archivo esta ubicado en el HDFS: /user/hadoop/data/pyspark_input_data/csv\n",
        "transaction_detail_df = spark.read.csv(\"/user/hadoop/data/pyspark_input_data/csv\")"
      ],
      "execution_count": null,
      "outputs": []
    },
    {
      "cell_type": "code",
      "metadata": {
        "id": "U4dKSSQBGrht",
        "outputId": "7b3dad11-8d94-4814-f182-348e33c2da4a"
      },
      "source": [
        "transaction_detail_df.printSchema()"
      ],
      "execution_count": null,
      "outputs": [
        {
          "output_type": "stream",
          "text": [
            "root\n",
            " |-- _c0: string (nullable = true)\n",
            " |-- _c1: string (nullable = true)\n",
            " |-- _c2: string (nullable = true)\n",
            " |-- _c3: string (nullable = true)\n",
            " |-- _c4: string (nullable = true)\n",
            " |-- _c5: string (nullable = true)\n",
            " |-- _c6: string (nullable = true)\n",
            " |-- _c7: string (nullable = true)\n",
            "\n"
          ],
          "name": "stdout"
        }
      ]
    },
    {
      "cell_type": "code",
      "metadata": {
        "id": "iwOncrqqGrhx",
        "outputId": "21665b1f-5bbb-47fb-e107-4d808ac09788"
      },
      "source": [
        "transaction_detail_df.show(2, False)"
      ],
      "execution_count": null,
      "outputs": [
        {
          "output_type": "stream",
          "text": [
            "+------------------+---------------------+----------------------------------+------------------------+--------------------+--------------+---------------------+------------------------+\n",
            "|_c0               |_c1                  |_c2                               |_c3                     |_c4                 |_c5           |_c6                  |_c7                     |\n",
            "+------------------+---------------------+----------------------------------+------------------------+--------------------+--------------+---------------------+------------------------+\n",
            "|transaction_amount|transaction_card_type|transaction_ecommerce_website_name|transaction_country_name|transaction_datetime|transaction_id|transaction_city_name|transaction_product_name|\n",
            "|50.85             |MasterCard           |www.ebay.com                      |India                   |2019-05-14 15:24:12 |1             |Mumbai               |Laptop                  |\n",
            "+------------------+---------------------+----------------------------------+------------------------+--------------------+--------------+---------------------+------------------------+\n",
            "only showing top 2 rows\n",
            "\n"
          ],
          "name": "stdout"
        }
      ]
    },
    {
      "cell_type": "code",
      "metadata": {
        "id": "cOzxTTkuGrh4"
      },
      "source": [
        "#transaction_detail_df = spark.read.option(\"header\", True).csv(\"/user/hadoop/data/pyspark_input_data/csv\")\n",
        "\n",
        "transaction_detail_df = spark.read.option(\"header\", True).option(\"inferSchema\", True).csv(\"/user/hadoop/data/pyspark_input_data/csv\")"
      ],
      "execution_count": null,
      "outputs": []
    },
    {
      "cell_type": "code",
      "metadata": {
        "id": "_BlfbBajGrh9",
        "outputId": "bcae2050-70ea-4c09-d2cc-c6ed06bcc102"
      },
      "source": [
        "transaction_detail_df.printSchema()"
      ],
      "execution_count": null,
      "outputs": [
        {
          "output_type": "stream",
          "text": [
            "root\n",
            " |-- transaction_amount: double (nullable = true)\n",
            " |-- transaction_card_type: string (nullable = true)\n",
            " |-- transaction_ecommerce_website_name: string (nullable = true)\n",
            " |-- transaction_country_name: string (nullable = true)\n",
            " |-- transaction_datetime: timestamp (nullable = true)\n",
            " |-- transaction_id: integer (nullable = true)\n",
            " |-- transaction_city_name: string (nullable = true)\n",
            " |-- transaction_product_name: string (nullable = true)\n",
            "\n"
          ],
          "name": "stdout"
        }
      ]
    },
    {
      "cell_type": "code",
      "metadata": {
        "id": "fPWVEqHDGriB",
        "outputId": "9f00e436-f0b8-4f07-dcab-5904aedcd13f"
      },
      "source": [
        "transaction_detail_df.count()"
      ],
      "execution_count": null,
      "outputs": [
        {
          "output_type": "execute_result",
          "data": {
            "text/plain": [
              "1000"
            ]
          },
          "metadata": {
            "tags": []
          },
          "execution_count": 10
        }
      ]
    },
    {
      "cell_type": "code",
      "metadata": {
        "id": "2SlWcyVhGriF",
        "outputId": "4e427ff1-56c6-40cc-a226-5e5e07800ee9"
      },
      "source": [
        "transaction_detail_df.show(2, False)"
      ],
      "execution_count": null,
      "outputs": [
        {
          "output_type": "stream",
          "text": [
            "+------------------+---------------------+----------------------------------+------------------------+--------------------+--------------+---------------------+------------------------+\n",
            "|transaction_amount|transaction_card_type|transaction_ecommerce_website_name|transaction_country_name|transaction_datetime|transaction_id|transaction_city_name|transaction_product_name|\n",
            "+------------------+---------------------+----------------------------------+------------------------+--------------------+--------------+---------------------+------------------------+\n",
            "|50.85             |MasterCard           |www.ebay.com                      |India                   |2019-05-14 15:24:12 |1             |Mumbai               |Laptop                  |\n",
            "|259.12            |MasterCard           |www.amazon.com                    |India                   |2019-05-14 15:24:13 |2             |Pune                 |Wrist Band              |\n",
            "+------------------+---------------------+----------------------------------+------------------------+--------------------+--------------+---------------------+------------------------+\n",
            "only showing top 2 rows\n",
            "\n"
          ],
          "name": "stdout"
        }
      ]
    },
    {
      "cell_type": "code",
      "metadata": {
        "id": "2jLW5ufIGriL"
      },
      "source": [
        "transaction_detail_df_stg1 = transaction_detail_df.select(\"transaction_card_type\", \"transaction_country_name\", \"transaction_amount\")"
      ],
      "execution_count": null,
      "outputs": []
    },
    {
      "cell_type": "code",
      "metadata": {
        "id": "tPJZ5DgWGriO",
        "outputId": "13c8065c-28d7-4a7a-b427-7437d17743fc"
      },
      "source": [
        "transaction_detail_df_stg1.show(5, False)"
      ],
      "execution_count": null,
      "outputs": [
        {
          "output_type": "stream",
          "text": [
            "+---------------------+------------------------+------------------+\n",
            "|transaction_card_type|transaction_country_name|transaction_amount|\n",
            "+---------------------+------------------------+------------------+\n",
            "|MasterCard           |India                   |50.85             |\n",
            "|MasterCard           |India                   |259.12            |\n",
            "|MasterCard           |United States           |328.16            |\n",
            "|Visa                 |Inida                   |399.06            |\n",
            "|Visa                 |Italy                   |194.52            |\n",
            "+---------------------+------------------------+------------------+\n",
            "only showing top 5 rows\n",
            "\n"
          ],
          "name": "stdout"
        }
      ]
    },
    {
      "cell_type": "code",
      "metadata": {
        "id": "u5CIgrgsGriR",
        "outputId": "0815a9f4-1784-4435-e78d-1029eb3e1ab8"
      },
      "source": [
        "transaction_detail_df_stg1.groupby('transaction_card_type').agg({'transaction_amount': 'sum'}).show()"
      ],
      "execution_count": null,
      "outputs": [
        {
          "output_type": "stream",
          "text": [
            "+---------------------+-----------------------+\n",
            "|transaction_card_type|sum(transaction_amount)|\n",
            "+---------------------+-----------------------+\n",
            "|              Maestro|      91002.73999999998|\n",
            "|                 Visa|      88020.94000000006|\n",
            "|           MasterCard|     100876.58000000007|\n",
            "+---------------------+-----------------------+\n",
            "\n"
          ],
          "name": "stdout"
        }
      ]
    },
    {
      "cell_type": "code",
      "metadata": {
        "id": "GXIcy9pNGriX",
        "outputId": "e1be6b06-1efe-48eb-e669-46dde2959288"
      },
      "source": [
        "transaction_detail_df_stg1.groupby('transaction_country_name').agg({'transaction_amount': 'sum'}).show()"
      ],
      "execution_count": null,
      "outputs": [
        {
          "output_type": "stream",
          "text": [
            "+------------------------+-----------------------+\n",
            "|transaction_country_name|sum(transaction_amount)|\n",
            "+------------------------+-----------------------+\n",
            "|               Singapore|     23082.309999999998|\n",
            "|                  France|     19675.550000000007|\n",
            "|                   India|      126909.0200000001|\n",
            "|           United States|               18764.22|\n",
            "|                   Italy|               19831.75|\n",
            "|                Thailand|      17041.25999999999|\n",
            "|                  Israel|     16599.459999999995|\n",
            "|                   Inida|     16664.040000000005|\n",
            "|          United Kingdom|     21332.649999999998|\n",
            "+------------------------+-----------------------+\n",
            "\n"
          ],
          "name": "stdout"
        }
      ]
    },
    {
      "cell_type": "code",
      "metadata": {
        "id": "lWSLxnvvGric",
        "outputId": "7bfbbb7a-cfc6-4931-f8d8-fc7cc0927839"
      },
      "source": [
        "#transaction_detail_df_stg1.groupby('transaction_country_name').agg({'transaction_amount': 'count'}).show()\n",
        "transaction_detail_df_stg1.groupby('transaction_country_name').count().show()"
      ],
      "execution_count": null,
      "outputs": [
        {
          "output_type": "stream",
          "text": [
            "+------------------------+-----+\n",
            "|transaction_country_name|count|\n",
            "+------------------------+-----+\n",
            "|               Singapore|   80|\n",
            "|                  France|   70|\n",
            "|                   India|  441|\n",
            "|           United States|   68|\n",
            "|                   Italy|   75|\n",
            "|                Thailand|   67|\n",
            "|                  Israel|   55|\n",
            "|                   Inida|   65|\n",
            "|          United Kingdom|   79|\n",
            "+------------------------+-----+\n",
            "\n"
          ],
          "name": "stdout"
        }
      ]
    },
    {
      "cell_type": "code",
      "metadata": {
        "id": "QraTNjQ6Grim",
        "outputId": "83ceb6d6-3eb5-4493-bc7b-355d6f053df2"
      },
      "source": [
        "transaction_detail_df_stg1.filter(transaction_detail_df_stg1.transaction_country_name == 'India').show(5, False)"
      ],
      "execution_count": null,
      "outputs": [
        {
          "output_type": "stream",
          "text": [
            "+---------------------+------------------------+------------------+\n",
            "|transaction_card_type|transaction_country_name|transaction_amount|\n",
            "+---------------------+------------------------+------------------+\n",
            "|MasterCard           |India                   |50.85             |\n",
            "|MasterCard           |India                   |259.12            |\n",
            "|Maestro              |India                   |415.65            |\n",
            "|MasterCard           |India                   |467.12            |\n",
            "|Visa                 |India                   |361.61            |\n",
            "+---------------------+------------------------+------------------+\n",
            "only showing top 5 rows\n",
            "\n"
          ],
          "name": "stdout"
        }
      ]
    },
    {
      "cell_type": "code",
      "metadata": {
        "id": "x5v-a_V3Gris",
        "outputId": "9755aa46-b6b3-40a9-9e2a-e21f5b19105c"
      },
      "source": [
        "transaction_detail_df_stg1.select(\"transaction_country_name\").distinct().show()"
      ],
      "execution_count": null,
      "outputs": [
        {
          "output_type": "stream",
          "text": [
            "+------------------------+\n",
            "|transaction_country_name|\n",
            "+------------------------+\n",
            "|               Singapore|\n",
            "|                  France|\n",
            "|                   India|\n",
            "|           United States|\n",
            "|                   Italy|\n",
            "|                Thailand|\n",
            "|                  Israel|\n",
            "|                   Inida|\n",
            "|          United Kingdom|\n",
            "+------------------------+\n",
            "\n"
          ],
          "name": "stdout"
        }
      ]
    },
    {
      "cell_type": "code",
      "metadata": {
        "id": "S-G76SQkGrix"
      },
      "source": [
        "transaction_detail_df_stg1.createTempView(\"transaction_detail_subset\")"
      ],
      "execution_count": null,
      "outputs": []
    },
    {
      "cell_type": "code",
      "metadata": {
        "id": "TNFx42f5Gri2",
        "outputId": "da71d1a9-388a-447a-8f41-a1946821823b"
      },
      "source": [
        "transaction_detail_count_by_country_df = spark.sql(\"select transaction_country_name, count(*) as transaction_count from transaction_detail_subset group by transaction_country_name\")\n",
        "transaction_detail_count_by_country_df.show()"
      ],
      "execution_count": null,
      "outputs": [
        {
          "output_type": "stream",
          "text": [
            "+------------------------+-----------------+\n",
            "|transaction_country_name|transaction_count|\n",
            "+------------------------+-----------------+\n",
            "|               Singapore|               80|\n",
            "|                  France|               70|\n",
            "|                   India|              441|\n",
            "|           United States|               68|\n",
            "|                   Italy|               75|\n",
            "|                Thailand|               67|\n",
            "|                  Israel|               55|\n",
            "|                   Inida|               65|\n",
            "|          United Kingdom|               79|\n",
            "+------------------------+-----------------+\n",
            "\n"
          ],
          "name": "stdout"
        }
      ]
    },
    {
      "cell_type": "markdown",
      "metadata": {
        "id": "eMeatTVbGri6"
      },
      "source": [
        "# Graficos de muestra usando el paquete Seaborn Python"
      ]
    },
    {
      "cell_type": "code",
      "metadata": {
        "id": "5Zu1h9YEGri7"
      },
      "source": [
        "# importar paquete seaborn\n",
        "import seaborn as sns\n",
        "sns.set()\n",
        "\n",
        "# Matplotlib para personalizacion adicional\n",
        "from matplotlib import pyplot as plt\n",
        "%matplotlib inline"
      ],
      "execution_count": null,
      "outputs": []
    },
    {
      "cell_type": "code",
      "metadata": {
        "id": "cZH-P9mfGrjA"
      },
      "source": [
        "transaction_detail_count_by_country_pd_df = transaction_detail_count_by_country_df.toPandas()"
      ],
      "execution_count": null,
      "outputs": []
    },
    {
      "cell_type": "code",
      "metadata": {
        "id": "GumAk5qGGrjG"
      },
      "source": [
        "pkmn_type_colors = ['#78C850',  # Grass\n",
        "                    '#F08030',  # Fire\n",
        "                    '#6890F0',  # Water\n",
        "                    '#A8B820',  # Bug\n",
        "                    '#A8A878',  # Normal\n",
        "                    '#A040A0',  # Poison\n",
        "                    '#F8D030',  # Electric\n",
        "                    '#E0C068',  # Ground\n",
        "                    '#EE99AC',  # Fairy\n",
        "                    '#C03028',  # Fighting\n",
        "                    '#F85888',  # Psychic\n",
        "                    '#B8A038',  # Rock\n",
        "                    '#705898',  # Ghost\n",
        "                    '#98D8D8',  # Ice\n",
        "                    '#7038F8',  # Dragon\n",
        "                   ]"
      ],
      "execution_count": null,
      "outputs": []
    },
    {
      "cell_type": "code",
      "metadata": {
        "id": "pdpbtiARGrjN",
        "outputId": "554492f8-7bda-4a8b-f429-cdcf92345949"
      },
      "source": [
        "# Bar Plot\n",
        "sns.barplot(x='transaction_country_name', y='transaction_count', data=transaction_detail_count_by_country_pd_df, palette=pkmn_type_colors)\n",
        " \n",
        "# Rotate x-labels\n",
        "plt.xticks(rotation=-65)"
      ],
      "execution_count": null,
      "outputs": [
        {
          "output_type": "execute_result",
          "data": {
            "text/plain": [
              "(array([0, 1, 2, 3, 4, 5, 6, 7, 8]), <a list of 9 Text xticklabel objects>)"
            ]
          },
          "metadata": {
            "tags": []
          },
          "execution_count": 24
        },
        {
          "output_type": "display_data",
          "data": {
            "image/png": "[encoded data removed]",
            "text/plain": [
              "<Figure size 432x288 with 1 Axes>"
            ]
          },
          "metadata": {
            "tags": [],
            "needs_background": "light"
          }
        }
      ]
    },
    {
      "cell_type": "code",
      "metadata": {
        "id": "DVcZa-L7GrjR",
        "outputId": "da173757-61f4-40d7-dd75-9a918d970ff5"
      },
      "source": [
        "transaction_detail_count_by_country_pd_df.head(25)"
      ],
      "execution_count": null,
      "outputs": [
        {
          "output_type": "execute_result",
          "data": {
            "text/html": [
              "<div>\n",
              "<style scoped>\n",
              "    .dataframe tbody tr th:only-of-type {\n",
              "        vertical-align: middle;\n",
              "    }\n",
              "\n",
              "    .dataframe tbody tr th {\n",
              "        vertical-align: top;\n",
              "    }\n",
              "\n",
              "    .dataframe thead th {\n",
              "        text-align: right;\n",
              "    }\n",
              "</style>\n",
              "<table border=\"1\" class=\"dataframe\">\n",
              "  <thead>\n",
              "    <tr style=\"text-align: right;\">\n",
              "      <th></th>\n",
              "      <th>transaction_country_name</th>\n",
              "      <th>transaction_count</th>\n",
              "    </tr>\n",
              "  </thead>\n",
              "  <tbody>\n",
              "    <tr>\n",
              "      <th>0</th>\n",
              "      <td>Singapore</td>\n",
              "      <td>80</td>\n",
              "    </tr>\n",
              "    <tr>\n",
              "      <th>1</th>\n",
              "      <td>France</td>\n",
              "      <td>70</td>\n",
              "    </tr>\n",
              "    <tr>\n",
              "      <th>2</th>\n",
              "      <td>India</td>\n",
              "      <td>441</td>\n",
              "    </tr>\n",
              "    <tr>\n",
              "      <th>3</th>\n",
              "      <td>United States</td>\n",
              "      <td>68</td>\n",
              "    </tr>\n",
              "    <tr>\n",
              "      <th>4</th>\n",
              "      <td>Italy</td>\n",
              "      <td>75</td>\n",
              "    </tr>\n",
              "    <tr>\n",
              "      <th>5</th>\n",
              "      <td>Thailand</td>\n",
              "      <td>67</td>\n",
              "    </tr>\n",
              "    <tr>\n",
              "      <th>6</th>\n",
              "      <td>Israel</td>\n",
              "      <td>55</td>\n",
              "    </tr>\n",
              "    <tr>\n",
              "      <th>7</th>\n",
              "      <td>Inida</td>\n",
              "      <td>65</td>\n",
              "    </tr>\n",
              "    <tr>\n",
              "      <th>8</th>\n",
              "      <td>United Kingdom</td>\n",
              "      <td>79</td>\n",
              "    </tr>\n",
              "  </tbody>\n",
              "</table>\n",
              "</div>"
            ],
            "text/plain": [
              "  transaction_country_name  transaction_count\n",
              "0                Singapore                 80\n",
              "1                   France                 70\n",
              "2                    India                441\n",
              "3            United States                 68\n",
              "4                    Italy                 75\n",
              "5                 Thailand                 67\n",
              "6                   Israel                 55\n",
              "7                    Inida                 65\n",
              "8           United Kingdom                 79"
            ]
          },
          "metadata": {
            "tags": []
          },
          "execution_count": 25
        }
      ]
    },
    {
      "cell_type": "code",
      "metadata": {
        "id": "Y7xoaOeuGrjX",
        "outputId": "a3a3a495-d04d-4681-8b8f-19a49e163f3c"
      },
      "source": [
        "# Bar Plot - Horizontal\n",
        "sns.barplot(x='transaction_count', y='transaction_country_name', data=transaction_detail_count_by_country_pd_df, palette=pkmn_type_colors)\n",
        " \n",
        "# Rotate x-labels\n",
        "plt.xticks(rotation=-65)"
      ],
      "execution_count": null,
      "outputs": [
        {
          "output_type": "execute_result",
          "data": {
            "text/plain": [
              "(array([  0., 100., 200., 300., 400., 500.]),\n",
              " <a list of 6 Text xticklabel objects>)"
            ]
          },
          "metadata": {
            "tags": []
          },
          "execution_count": 26
        },
        {
          "output_type": "display_data",
          "data": {
            "image/png": "[encoded data removed]",
            "text/plain": [
              "<Figure size 432x288 with 1 Axes>"
            ]
          },
          "metadata": {
            "tags": [],
            "needs_background": "light"
          }
        }
      ]
    },
    {
      "cell_type": "code",
      "metadata": {
        "id": "0ewSIsScGrjc"
      },
      "source": [
        ""
      ],
      "execution_count": null,
      "outputs": []
    }
  ]
}